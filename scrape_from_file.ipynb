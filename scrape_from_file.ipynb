{
 "cells": [
  {
   "cell_type": "code",
   "execution_count": 1,
   "id": "5c8fa012",
   "metadata": {},
   "outputs": [
    {
     "name": "stderr",
     "output_type": "stream",
     "text": [
      "/data/dania.moriazi01/anaconda3/envs/space/lib/python3.11/site-packages/tqdm/auto.py:21: TqdmWarning: IProgress not found. Please update jupyter and ipywidgets. See https://ipywidgets.readthedocs.io/en/stable/user_install.html\n",
      "  from .autonotebook import tqdm as notebook_tqdm\n"
     ]
    }
   ],
   "source": [
    "from langchain.chat_models import init_chat_model\n",
    "\n",
    "from pdfminer.high_level import extract_text\n",
    "from typing import Optional, List, Dict\n",
    "from typing_extensions import Annotated, TypedDict\n",
    "from langchain_core.prompts import ChatPromptTemplate\n",
    "from langchain_core.output_parsers import PydanticOutputParser\n",
    "from langchain_core.tools import tool\n",
    "\n",
    "import pandas as pd\n",
    "import getpass\n",
    "import pdf2doi\n",
    "import os"
   ]
  },
  {
   "cell_type": "code",
   "execution_count": 2,
   "id": "28946adc",
   "metadata": {},
   "outputs": [],
   "source": [
    "dir = './SSWLAB_논문'"
   ]
  },
  {
   "cell_type": "code",
   "execution_count": 3,
   "id": "d2c46182",
   "metadata": {},
   "outputs": [],
   "source": [
    "sswlab_files = []\n",
    "\n",
    "for file in os.listdir(dir):\n",
    "    sswlab_files.append(file)"
   ]
  },
  {
   "cell_type": "code",
   "execution_count": 55,
   "id": "5c94cbb5",
   "metadata": {},
   "outputs": [],
   "source": [
    "class PaperInfo(TypedDict):\n",
    "    title: Annotated[str, ..., 'Title of the research paper']\n",
    "    author: Annotated[str, ..., 'Authors of the paper in (Name) et al. format']\n",
    "    id: Annotated[str, ..., 'DOI or arXiv ID']\n",
    "    data: Annotated[List[str], ..., 'Data used']\n",
    "    code_link: Annotated[str, 'None provided', 'Link to code (Github, etc)']\n",
    "    packages_used: Annotated[List[str], 'None Provided', 'Packages or libraries used.']\n",
    "    task: Annotated[str, ..., 'Task performed in paper (e.g. flare prediction, CME detection, etc.)']\n",
    "    field: Annotated[str, ...,'What branch of Space Science/Solar Physics e.g. solar flares, CME, solar wind, etc.']\n",
    "    abstract: Annotated[str, ..., 'Summary of abstract']\n",
    "    models: Annotated[List[str], ..., 'Model architecture(s) used e.g. CNN, ResNet, pix2pix, GAN, etc.']\n",
    "    hybrid_model: Annotated[bool, ..., 'Whether hybrid model architectures were used.']\n",
    "    multimodal: Annotated[List[str], 'N/A', 'Type of multimodal models used, if any.']\n",
    "    baselines: Annotated[List[str], 'N/A', 'Baseline models or papers used, along with citations in the format: baseline (author, year).']\n",
    "    preprocessing: Annotated[List[str], ..., 'Preprocessing steps taken']\n",
    "    citations: Annotated[List[str], ..., 'Citations']\n",
    "    approach_used: Annotated[List[str], ..., 'Approach(es) used']\n",
    "    methodology: Annotated[str, ..., 'Summary of methodology']\n",
    "    metrics: Annotated[List[Dict[str, str]], ..., 'Metrics used for evaluation and the scores obtained']\n",
    "    limitations: Annotated[List[str], ..., 'Limitations of the research']\n",
    "    reproducibility: Annotated[float, ..., 'From 0-5, based on the completeness of the method, code and data, how reproducible is the paper?']\n",
    "    key_points: Annotated[Dict[str, str], ..., 'Key strengths and weaknesses']\n",
    "    reuse_potential: Annotated[List[str], 'N/A', 'Notes on potential for reuse (if applicable)']"
   ]
  },
  {
   "cell_type": "code",
   "execution_count": 56,
   "id": "8f0ffec2",
   "metadata": {},
   "outputs": [],
   "source": [
    "llm = init_chat_model('mistral-large-latest', model_provider='mistralai')"
   ]
  },
  {
   "cell_type": "code",
   "execution_count": 57,
   "id": "d72dd3a7",
   "metadata": {},
   "outputs": [],
   "source": [
    "structured_llm = llm.with_structured_output(PaperInfo)"
   ]
  },
  {
   "cell_type": "code",
   "execution_count": 13,
   "id": "82fa2853",
   "metadata": {},
   "outputs": [],
   "source": [
    "papers_df = pd.read_csv('listup.csv')\n",
    "papers = []\n",
    "\n",
    "for file, content in zip(papers_df['file_name'], papers_df['content']):\n",
    "    papers.append({'file_name': file, 'content': content})"
   ]
  },
  {
   "cell_type": "code",
   "execution_count": 8,
   "id": "acc213a3",
   "metadata": {},
   "outputs": [],
   "source": [
    "from mistralai import Mistral\n",
    "from dotenv import load_dotenv\n",
    "import datauri"
   ]
  },
  {
   "cell_type": "code",
   "execution_count": 9,
   "id": "ce4319d3",
   "metadata": {},
   "outputs": [],
   "source": [
    "load_dotenv()\n",
    "client = Mistral(api_key=os.environ['MISTRAL_API_KEY'])"
   ]
  },
  {
   "cell_type": "code",
   "execution_count": null,
   "id": "6f5737cd",
   "metadata": {},
   "outputs": [],
   "source": [
    "def upload_pdf(file):\n",
    "    pdf = client.files.upload(\n",
    "        file={\n",
    "            'file_name': file,\n",
    "            'content': open(f'./SSWLAB_논문/{file}', 'rb')\n",
    "        },\n",
    "        purpose='ocr'\n",
    "    )\n",
    "\n",
    "    signed_url = client.files.get_signed_url(file_id=pdf.id)\n",
    "    return signed_url.url"
   ]
  },
  {
   "cell_type": "code",
   "execution_count": 11,
   "id": "6a824413",
   "metadata": {},
   "outputs": [],
   "source": [
    "def extract_pdf(file):\n",
    "    ocr_response = client.ocr.process(\n",
    "        model='mistral-ocr-latest',\n",
    "        document={\n",
    "            'type': 'document_url',\n",
    "            'document_url': upload_pdf(file)\n",
    "        },\n",
    "        include_image_base64=True\n",
    "    )\n",
    "\n",
    "    return ocr_response"
   ]
  },
  {
   "cell_type": "code",
   "execution_count": 12,
   "id": "9552b198",
   "metadata": {},
   "outputs": [],
   "source": [
    "papers = []\n",
    "for file in sswlab_files:\n",
    "    pdf = extract_pdf(file)\n",
    "\n",
    "    content = []\n",
    "    for page in pdf.pages:\n",
    "        content.append(page.markdown)\n",
    "\n",
    "    papers.append({\n",
    "        'file_name': file,\n",
    "        'content': content\n",
    "    })"
   ]
  },
  {
   "cell_type": "code",
   "execution_count": 13,
   "id": "2379bcf0",
   "metadata": {},
   "outputs": [],
   "source": [
    "for pdf in papers:\n",
    "    content = '\\n'.join(pdf['content'])\n",
    "    pdf['content'] = content"
   ]
  },
  {
   "cell_type": "code",
   "execution_count": 22,
   "id": "d975d504",
   "metadata": {},
   "outputs": [],
   "source": [
    "prompt = ChatPromptTemplate.from_messages(\n",
    "    [\n",
    "        ('system', \"Extract information from the following research paper.\"),\n",
    "        ('human', '{paper}')    \n",
    "    ]\n",
    ")"
   ]
  },
  {
   "cell_type": "code",
   "execution_count": 58,
   "id": "2fac7c2e",
   "metadata": {},
   "outputs": [],
   "source": [
    "fin_llm = prompt | structured_llm"
   ]
  },
  {
   "cell_type": "code",
   "execution_count": 59,
   "id": "05c64548",
   "metadata": {},
   "outputs": [],
   "source": [
    "data = []\n",
    "for paper in papers:\n",
    "    data.append(fin_llm.invoke({'paper': paper['content']}))"
   ]
  },
  {
   "cell_type": "code",
   "execution_count": 60,
   "id": "6afff0ea",
   "metadata": {},
   "outputs": [],
   "source": [
    "for i in range(len(data)):\n",
    "    data[i]['metrics_list'] = data[i]['metrics'].copy()\n",
    "    data[i]['metrics'] = []\n",
    "    data[i]['scores'] = []\n",
    "    for j in range(len(data[i]['metrics_list'])):\n",
    "        for key, value in data[i]['metrics_list'][j].items():\n",
    "            data[i]['metrics'].append(key)\n",
    "            data[i]['scores'].append(value)"
   ]
  },
  {
   "cell_type": "code",
   "execution_count": 61,
   "id": "d153a1f9",
   "metadata": {},
   "outputs": [],
   "source": [
    "df = pd.DataFrame(data)"
   ]
  },
  {
   "cell_type": "code",
   "execution_count": 68,
   "id": "b14473d4",
   "metadata": {},
   "outputs": [],
   "source": [
    "df.to_csv('entities.csv', index=False)"
   ]
  },
  {
   "cell_type": "code",
   "execution_count": null,
   "id": "c79b802b",
   "metadata": {},
   "outputs": [],
   "source": []
  }
 ],
 "metadata": {
  "kernelspec": {
   "display_name": "space",
   "language": "python",
   "name": "python3"
  },
  "language_info": {
   "codemirror_mode": {
    "name": "ipython",
    "version": 3
   },
   "file_extension": ".py",
   "mimetype": "text/x-python",
   "name": "python",
   "nbconvert_exporter": "python",
   "pygments_lexer": "ipython3",
   "version": "3.11.13"
  }
 },
 "nbformat": 4,
 "nbformat_minor": 5
}
