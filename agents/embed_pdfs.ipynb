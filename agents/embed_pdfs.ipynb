{
 "cells": [
  {
   "cell_type": "code",
   "execution_count": 1,
   "id": "f86d8163",
   "metadata": {},
   "outputs": [
    {
     "name": "stderr",
     "output_type": "stream",
     "text": [
      "c:\\Users\\dania\\anaconda3\\envs\\space\\Lib\\site-packages\\tqdm\\auto.py:21: TqdmWarning: IProgress not found. Please update jupyter and ipywidgets. See https://ipywidgets.readthedocs.io/en/stable/user_install.html\n",
      "  from .autonotebook import tqdm as notebook_tqdm\n"
     ]
    }
   ],
   "source": [
    "from pdfminer.high_level import extract_text\n",
    "from typing import Optional, List, Dict\n",
    "from typing_extensions import Annotated, TypedDict\n",
    "from langchain_core.prompts import ChatPromptTemplate\n",
    "from langchain_core.output_parsers import PydanticOutputParser\n",
    "from langchain_core.tools import tool\n",
    "from langchain_core.messages import BaseMessage, SystemMessage, HumanMessage, ToolMessage\n",
    "from langchain_mistralai import MistralAIEmbeddings, ChatMistralAI\n",
    "from langchain_text_splitters import RecursiveCharacterTextSplitter\n",
    "from langchain_community.llms import IpexLLM\n",
    "from langchain_chroma import Chroma\n",
    "\n",
    "import torch\n",
    "\n",
    "import pandas as pd\n",
    "import getpass\n",
    "import pdf2doi\n",
    "import os"
   ]
  },
  {
   "cell_type": "code",
   "execution_count": 2,
   "id": "6ff43223",
   "metadata": {},
   "outputs": [],
   "source": [
    "os.environ[\"SYCL_CACHE_PERSISTENT\"] = \"1\""
   ]
  },
  {
   "cell_type": "code",
   "execution_count": 3,
   "id": "a354f9da",
   "metadata": {},
   "outputs": [],
   "source": [
    "from mistralai import Mistral\n",
    "from dotenv import load_dotenv\n",
    "import datauri"
   ]
  },
  {
   "cell_type": "code",
   "execution_count": 4,
   "id": "441909c7",
   "metadata": {},
   "outputs": [],
   "source": [
    "class PaperInfo(TypedDict):\n",
    "    title: Annotated[str, ..., 'Title of the research paper']\n",
    "    author: Annotated[str, ..., 'Authors of the paper in (Name) et al. format']\n",
    "    id: Annotated[str, ..., 'DOI or arXiv ID']\n",
    "    data: Annotated[List[str], ..., 'Data used']\n",
    "    code_link: Annotated[str, 'None provided', 'Link to code (Github, etc)']\n",
    "    packages_used: Annotated[List[str], 'None Provided', 'Packages or libraries used.']\n",
    "    task: Annotated[str, ..., 'Task performed in paper (e.g. flare prediction, CME detection, etc.)']\n",
    "    field: Annotated[str, ...,'What branch of Space Science/Solar Physics e.g. solar flares, CME, solar wind, etc.']\n",
    "    abstract: Annotated[str, ..., 'Summary of abstract']\n",
    "    models: Annotated[List[str], ..., 'Model architecture(s) used e.g. CNN, ResNet, pix2pix, GAN, etc.']\n",
    "    hybrid_model: Annotated[bool, ..., 'Whether hybrid model architectures were used.']\n",
    "    multimodal: Annotated[List[str], 'N/A', 'Type of multimodal models used, if any.']\n",
    "    baselines: Annotated[List[str], 'N/A', 'Baseline models or papers used, along with citations in the format: baseline (author, year).']\n",
    "    preprocessing: Annotated[List[str], ..., 'Preprocessing steps taken']\n",
    "    citations: Annotated[List[str], ..., 'Citations']\n",
    "    approach_used: Annotated[List[str], ..., 'Approach(es) used']\n",
    "    methodology: Annotated[str, ..., 'Summary of methodology']\n",
    "    metrics: Annotated[List[Dict[str, float]], ..., 'Metrics used for evaluation and the scores obtained']\n",
    "    limitations: Annotated[List[str], ..., 'Limitations of the research']\n",
    "    reproducibility: Annotated[float, ..., 'From 0-5, based on the completeness of the method, code and data, how reproducible is the paper?']\n",
    "    strengths: Annotated[str, ..., 'Key strengths']\n",
    "    weaknesses: Annotated[str, ..., 'Key weaknesses']\n",
    "    reuse_potential: Annotated[List[str], 'N/A', 'Notes on potential for reuse (if applicable)']"
   ]
  },
  {
   "cell_type": "code",
   "execution_count": 5,
   "id": "55f31e2c",
   "metadata": {},
   "outputs": [],
   "source": [
    "load_dotenv()\n",
    "api_key = os.environ['MISTRAL_API_KEY'].strip(\"'\")"
   ]
  },
  {
   "cell_type": "code",
   "execution_count": 6,
   "id": "507d5577",
   "metadata": {},
   "outputs": [],
   "source": [
    "papers_df = pd.read_csv('../listup.csv')\n",
    "papers_df['file_name'] = list(map(lambda name: name.split('.pdf')[0].split(' - ')[1], papers_df['file_name']))\n",
    "papers = []\n",
    "\n",
    "for file, content in zip(papers_df['file_name'], papers_df['content']):\n",
    "    papers.append({'file_name': file, 'content': content})"
   ]
  },
  {
   "cell_type": "code",
   "execution_count": null,
   "id": "2755ce93",
   "metadata": {},
   "outputs": [
    {
     "name": "stderr",
     "output_type": "stream",
     "text": [
      "C:\\Users\\dania\\AppData\\Roaming\\Python\\Python311\\site-packages\\transformers\\deepspeed.py:23: FutureWarning: transformers.deepspeed module is deprecated and will be removed in a future version. Please import deepspeed modules directly from transformers.integrations\n",
      "  warnings.warn(\n",
      "W0918 20:51:29.039000 37396 site-packages\\torch\\distributed\\elastic\\multiprocessing\\redirects.py:29] NOTE: Redirects are currently not supported in Windows or MacOs.\n"
     ]
    }
   ],
   "source": [
    "llm = IpexLLM.from_model_id(\n",
    "    model_id='mistralai/Mistral-7B-v0.1',\n",
    "    model_kwargs={\n",
    "        'temperature': 0\n",
    "    }\n",
    ")\n",
    "structured_llm = llm.with_structured_output(PaperInfo)"
   ]
  },
  {
   "cell_type": "code",
   "execution_count": null,
   "id": "a5be6de5",
   "metadata": {},
   "outputs": [],
   "source": [
    "embeddings = MistralAIEmbeddings(\n",
    "    model='mistral-embed',\n",
    "    api_key=api_key\n",
    ")"
   ]
  },
  {
   "cell_type": "code",
   "execution_count": null,
   "id": "a659c6f1",
   "metadata": {},
   "outputs": [],
   "source": [
    "text_splitter = RecursiveCharacterTextSplitter(\n",
    "    chunk_size=1000,\n",
    "    chunk_overlap=200\n",
    ")"
   ]
  },
  {
   "cell_type": "code",
   "execution_count": null,
   "id": "e409bd2a",
   "metadata": {},
   "outputs": [],
   "source": [
    "persist_directory = \"papers_data\"\n",
    "\n",
    "if not os.path.exists(persist_directory):\n",
    "    os.makedirs(persist_directory)\n",
    "    "
   ]
  },
  {
   "cell_type": "code",
   "execution_count": null,
   "id": "7ff6c7bc",
   "metadata": {},
   "outputs": [],
   "source": [
    "for paper in papers:\n",
    "    split_paper = text_splitter.split_text(paper['content'])\n",
    "    \n",
    "    vectorstore = Chroma(\n",
    "        persist_directory=persist_directory,\n",
    "        embedding_function=embeddings,\n",
    "        collection_name='research_papers'\n",
    "    )\n",
    "\n",
    "    vectorstore.add_texts(split_paper)"
   ]
  },
  {
   "cell_type": "code",
   "execution_count": null,
   "id": "b07f0ca3",
   "metadata": {},
   "outputs": [],
   "source": []
  }
 ],
 "metadata": {
  "kernelspec": {
   "display_name": "space",
   "language": "python",
   "name": "python3"
  },
  "language_info": {
   "codemirror_mode": {
    "name": "ipython",
    "version": 3
   },
   "file_extension": ".py",
   "mimetype": "text/x-python",
   "name": "python",
   "nbconvert_exporter": "python",
   "pygments_lexer": "ipython3",
   "version": "3.11.13"
  }
 },
 "nbformat": 4,
 "nbformat_minor": 5
}
